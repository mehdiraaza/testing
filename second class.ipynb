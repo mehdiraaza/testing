{
 "cells": [
  {
   "cell_type": "code",
   "execution_count": null,
   "metadata": {},
   "outputs": [],
   "source": [
    "nic=1234\n",
    "name=\"ali\"\n",
    "cnic=int(input(\"Enter Cnic Number\"))\n",
    "if cnic==nic:\n",
    "    print(\"NIC is Valid\")\n",
    "    name=input(\"Enter Your Name\").lower()\n",
    "    if name== 'ali':\n",
    "        print(\"You are Elligible for Vote\")\n",
    "        \n",
    "    else:\n",
    "        print(\"You are not Elligible for Vote\")\n",
    "        \n",
    "else:\n",
    "    print(\"Your NIC Is not valid\")\n",
    "    \n",
    "    "
   ]
  },
  {
   "cell_type": "code",
   "execution_count": null,
   "metadata": {},
   "outputs": [],
   "source": [
    "nic=1234\n",
    "name=\"ali\"\n",
    "cnic=int(input(\"Enter Cnic Number\"))\n",
    "if cnic==nic:\n",
    "    print(\"NIC is Valid\")\n",
    "    name=input(\"Enter Your Name\").lower()\n",
    "    if name=='ali':\n",
    "        print(\"You are Elligible for Vote\")\n",
    "        \n",
    "    else:\n",
    "        print(\"You are not Elligible for Vote\")\n",
    "        \n",
    "else:\n",
    "    print(\"Your NIC Is not valid\")\n",
    "    \n",
    "    "
   ]
  },
  {
   "cell_type": "code",
   "execution_count": null,
   "metadata": {},
   "outputs": [],
   "source": []
  },
  {
   "cell_type": "code",
   "execution_count": null,
   "metadata": {},
   "outputs": [],
   "source": []
  },
  {
   "cell_type": "code",
   "execution_count": null,
   "metadata": {},
   "outputs": [],
   "source": []
  },
  {
   "cell_type": "code",
   "execution_count": null,
   "metadata": {},
   "outputs": [],
   "source": []
  }
 ],
 "metadata": {
  "kernelspec": {
   "display_name": "Python 3",
   "language": "python",
   "name": "python3"
  },
  "language_info": {
   "codemirror_mode": {
    "name": "ipython",
    "version": 3
   },
   "file_extension": ".py",
   "mimetype": "text/x-python",
   "name": "python",
   "nbconvert_exporter": "python",
   "pygments_lexer": "ipython3",
   "version": "3.7.3"
  }
 },
 "nbformat": 4,
 "nbformat_minor": 2
}
