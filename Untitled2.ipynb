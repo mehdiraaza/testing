{
 "cells": [
  {
   "cell_type": "code",
   "execution_count": 7,
   "metadata": {},
   "outputs": [],
   "source": [
    "fruits=['mango' , 'apple', 'banana']\n",
    "fruits\n",
    "del fruits[0]\n",
    "\n",
    "\n"
   ]
  },
  {
   "cell_type": "code",
   "execution_count": 9,
   "metadata": {},
   "outputs": [
    {
     "data": {
      "text/plain": [
       "['apple', 'banana']"
      ]
     },
     "execution_count": 9,
     "metadata": {},
     "output_type": "execute_result"
    }
   ],
   "source": [
    "fruits=['mango' , 'apple', 'banana']\n",
    "fruits\n",
    "del fruits[0]\n",
    "fruits\n"
   ]
  },
  {
   "cell_type": "code",
   "execution_count": 31,
   "metadata": {},
   "outputs": [
    {
     "data": {
      "text/plain": [
       "[65, 12, 28, 26, 32, 3, 22]"
      ]
     },
     "execution_count": 31,
     "metadata": {},
     "output_type": "execute_result"
    }
   ],
   "source": [
    "fruits=['grapes','grapes','banana']\n",
    "fruits[1]='apple'\n",
    "fruits.append('peach')\n",
    "fruits.insert(4 , 'grapes')\n",
    "fruits.index('apple')\n",
    "fruits.count('grapes')\n",
    "a=[25,12.2,27]\n",
    "a.sort(reverse=True)\n",
    "a\n",
    "\n",
    "\n"
   ]
  },
  {
   "cell_type": "code",
   "execution_count": 33,
   "metadata": {},
   "outputs": [
    {
     "data": {
      "text/plain": [
       "[65, 12, 28, 26, 32, 3, 22]"
      ]
     },
     "execution_count": 33,
     "metadata": {},
     "output_type": "execute_result"
    }
   ],
   "source": [
    "random=[22,3,32,26,28,12,65]\n",
    "random.reverse()\n",
    "random\n"
   ]
  },
  {
   "cell_type": "code",
   "execution_count": 39,
   "metadata": {},
   "outputs": [
    {
     "data": {
      "text/plain": [
       "[65, 12, 28, 26, 32, 3, 22, 122, 122, 122, 444]"
      ]
     },
     "execution_count": 39,
     "metadata": {},
     "output_type": "execute_result"
    }
   ],
   "source": [
    "b=random\n",
    "b.append(444)\n",
    "b"
   ]
  },
  {
   "cell_type": "code",
   "execution_count": 41,
   "metadata": {},
   "outputs": [
    {
     "name": "stdout",
     "output_type": "stream",
     "text": [
      "[65, 12, 28, 26, 32, 3, 22, 122, 122, 122, 444, 122, 122]\n",
      "[65, 12, 28, 26, 32, 3, 22, 122, 122, 122, 444, 122, 122]\n"
     ]
    }
   ],
   "source": [
    "random.append(122)\n",
    "print(random)\n",
    "print(b)"
   ]
  },
  {
   "cell_type": "code",
   "execution_count": 47,
   "metadata": {},
   "outputs": [
    {
     "name": "stdout",
     "output_type": "stream",
     "text": [
      "[65, 12, 28, 26, 32, 3, 22, 122, 122, 122, 444, 122, 122, 2544]\n",
      "[65, 12, 28, 26, 32, 3, 22, 122, 122, 122, 444, 122, 122]\n",
      "[65, 12, 28, 26, 32, 3, 22, 122, 122, 122, 444, 122, 122]\n"
     ]
    }
   ],
   "source": [
    "c=random.copy()\n",
    "c.append(2544)\n",
    "print(c)\n",
    "print(random)\n",
    "print(b)"
   ]
  },
  {
   "cell_type": "code",
   "execution_count": 82,
   "metadata": {},
   "outputs": [
    {
     "name": "stdout",
     "output_type": "stream",
     "text": [
      "65\n",
      "[22, 3, 32, 26, 28, 12]\n"
     ]
    }
   ],
   "source": [
    "random=[22,3,32,26,28,12,65]\n",
    "b=random\n",
    "popped=random.pop()\n",
    "print(popped)\n",
    "print(b)\n",
    "\n",
    "\n"
   ]
  },
  {
   "cell_type": "code",
   "execution_count": 85,
   "metadata": {},
   "outputs": [],
   "source": [
    "newlist=[]"
   ]
  },
  {
   "cell_type": "code",
   "execution_count": 96,
   "metadata": {},
   "outputs": [],
   "source": [
    "newlist.append(random.pop())\n"
   ]
  },
  {
   "cell_type": "code",
   "execution_count": 97,
   "metadata": {},
   "outputs": [
    {
     "data": {
      "text/plain": [
       "[12, 28, 26, 32]"
      ]
     },
     "execution_count": 97,
     "metadata": {},
     "output_type": "execute_result"
    }
   ],
   "source": [
    "newlist"
   ]
  },
  {
   "cell_type": "code",
   "execution_count": 98,
   "metadata": {},
   "outputs": [
    {
     "data": {
      "text/plain": [
       "[22, 3]"
      ]
     },
     "execution_count": 98,
     "metadata": {},
     "output_type": "execute_result"
    }
   ],
   "source": [
    "random"
   ]
  }
 ],
 "metadata": {
  "kernelspec": {
   "display_name": "Python 3",
   "language": "python",
   "name": "python3"
  },
  "language_info": {
   "codemirror_mode": {
    "name": "ipython",
    "version": 3
   },
   "file_extension": ".py",
   "mimetype": "text/x-python",
   "name": "python",
   "nbconvert_exporter": "python",
   "pygments_lexer": "ipython3",
   "version": "3.7.3"
  }
 },
 "nbformat": 4,
 "nbformat_minor": 2
}
