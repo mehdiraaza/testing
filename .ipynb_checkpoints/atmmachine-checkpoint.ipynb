{
 "cells": [
  {
   "cell_type": "code",
   "execution_count": 25,
   "metadata": {},
   "outputs": [
    {
     "name": "stdout",
     "output_type": "stream",
     "text": [
      "enter account pin1234\n",
      "enter Amount6000\n",
      "Transaction Declined !\n"
     ]
    }
   ],
   "source": [
    "a=input(\"enter account pin\")\n",
    "\n",
    "pin=1234\n",
    "balance=50000\n",
    "if a == \"1234\" :\n",
    "            b=input(\"enter Amount\")\n",
    "            if b <= \"5000\":\n",
    "                print (\"Transaction Successfull\")\n",
    "                \n",
    "            if b > \"5000\" :\n",
    "                print (\"Transaction Declined !\")\n",
    "      \n",
    "        \n",
    "else:\n",
    "    print('Invalid pin')\n",
    "    \n"
   ]
  },
  {
   "cell_type": "code",
   "execution_count": null,
   "metadata": {},
   "outputs": [],
   "source": []
  }
 ],
 "metadata": {
  "kernelspec": {
   "display_name": "Python 3",
   "language": "python",
   "name": "python3"
  },
  "language_info": {
   "codemirror_mode": {
    "name": "ipython",
    "version": 3
   },
   "file_extension": ".py",
   "mimetype": "text/x-python",
   "name": "python",
   "nbconvert_exporter": "python",
   "pygments_lexer": "ipython3",
   "version": "3.7.3"
  }
 },
 "nbformat": 4,
 "nbformat_minor": 2
}
