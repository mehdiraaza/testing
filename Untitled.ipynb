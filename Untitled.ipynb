{
 "cells": [
  {
   "cell_type": "code",
   "execution_count": 1,
   "metadata": {},
   "outputs": [
    {
     "name": "stdout",
     "output_type": "stream",
     "text": [
      "document haiyes\n",
      "khancha haino\n",
      "acha larka hai\n"
     ]
    }
   ],
   "source": [
    "a=input(\"document hai\")\n",
    "b=input(\"khancha hai\").lower()\n",
    "\n",
    "if a == \"yes\":\n",
    "    print('acha larka hai')\n",
    "elif b == \"yes\":\n",
    "    print('good work')\n",
    "    \n",
    "else:\n",
    "    print('Bike Band')\n",
    "    \n",
    "    "
   ]
  },
  {
   "cell_type": "code",
   "execution_count": null,
   "metadata": {},
   "outputs": [],
   "source": []
  }
 ],
 "metadata": {
  "kernelspec": {
   "display_name": "Python 3",
   "language": "python",
   "name": "python3"
  },
  "language_info": {
   "codemirror_mode": {
    "name": "ipython",
    "version": 3
   },
   "file_extension": ".py",
   "mimetype": "text/x-python",
   "name": "python",
   "nbconvert_exporter": "python",
   "pygments_lexer": "ipython3",
   "version": "3.7.3"
  }
 },
 "nbformat": 4,
 "nbformat_minor": 2
}
