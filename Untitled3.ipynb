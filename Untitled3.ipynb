{
 "cells": [
  {
   "cell_type": "raw",
   "metadata": {},
   "source": [
    "students = ['hamza','hassan','niaz','khalil']\n",
    "for student in students:\n",
    "     print(student)\n",
    "     \n"
   ]
  },
  {
   "cell_type": "code",
   "execution_count": 5,
   "metadata": {},
   "outputs": [
    {
     "name": "stdout",
     "output_type": "stream",
     "text": [
      " hamza andar jao\n",
      " hassan andar jao\n",
      " niaz maasi lover\n",
      " khalil andar jao\n"
     ]
    }
   ],
   "source": [
    "students = ['hamza','hassan','niaz','khalil']\n",
    "for student in students:\n",
    "    if student == 'niaz':\n",
    "     print(f' {student} maasi lover')\n",
    "        \n",
    "    else:\n",
    "     print(f' {student} andar jao')"
   ]
  },
  {
   "cell_type": "code",
   "execution_count": 8,
   "metadata": {},
   "outputs": [
    {
     "name": "stdout",
     "output_type": "stream",
     "text": [
      "p a k i s t a n "
     ]
    }
   ],
   "source": [
    "for a in 'pakistan':\n",
    "    print(a, end = ' ')\n",
    "    "
   ]
  },
  {
   "cell_type": "code",
   "execution_count": 10,
   "metadata": {},
   "outputs": [
    {
     "name": "stdout",
     "output_type": "stream",
     "text": [
      "0 1 2 3 4 5 6 7 8 9 "
     ]
    }
   ],
   "source": [
    "for num in range(10):\n",
    "    print(num , end = ' ')"
   ]
  },
  {
   "cell_type": "code",
   "execution_count": 11,
   "metadata": {},
   "outputs": [
    {
     "name": "stdout",
     "output_type": "stream",
     "text": [
      "1 2 3 4 5 6 7 8 9 "
     ]
    }
   ],
   "source": [
    "for num in range(1, 10):\n",
    "    print(num , end = ' ')"
   ]
  },
  {
   "cell_type": "code",
   "execution_count": 20,
   "metadata": {},
   "outputs": [
    {
     "name": "stdout",
     "output_type": "stream",
     "text": [
      "Plz enter a table number5\n",
      "5 * 1 = 5\n",
      "5 * 2 = 10\n",
      "5 * 3 = 15\n",
      "5 * 4 = 20\n",
      "5 * 5 = 25\n",
      "5 * 6 = 30\n",
      "5 * 7 = 35\n",
      "5 * 8 = 40\n",
      "5 * 9 = 45\n",
      "5 * 10 = 50\n"
     ]
    }
   ],
   "source": [
    "a=int (input('Plz enter a table number'))\n",
    "\n",
    "\n",
    "for num in range(1,11):\n",
    "    print(f'{a} * {num} = {a * num}')\n",
    "    "
   ]
  },
  {
   "cell_type": "code",
   "execution_count": 21,
   "metadata": {},
   "outputs": [
    {
     "name": "stdout",
     "output_type": "stream",
     "text": [
      "ENTER TABLE NUMBER8\n",
      "8 * 1 = 8\n",
      "8 * 2 = 16\n",
      "8 * 3 = 24\n",
      "8 * 4 = 32\n",
      "8 * 5 = 40\n",
      "8 * 6 = 48\n",
      "8 * 7 = 56\n",
      "8 * 8 = 64\n",
      "8 * 9 = 72\n",
      "8 * 10 = 80\n"
     ]
    }
   ],
   "source": [
    "tablenum=int(input ('ENTER TABLE NUMBER'))\n",
    "for num in range(1 ,11):\n",
    "    print(f'{tablenum} * {num} = {tablenum * num}')"
   ]
  },
  {
   "cell_type": "code",
   "execution_count": 31,
   "metadata": {},
   "outputs": [
    {
     "name": "stdout",
     "output_type": "stream",
     "text": [
      "25 21 17 13 9 5 1 "
     ]
    }
   ],
   "source": [
    "for num in range(25 ,0 , -4):\n",
    "    print(num , end = ' ')"
   ]
  },
  {
   "cell_type": "code",
   "execution_count": 35,
   "metadata": {},
   "outputs": [
    {
     "name": "stdout",
     "output_type": "stream",
     "text": [
      "ENTER TABLE NUMBER5\n",
      "5 * 1 = 5\n",
      "5 * 3 = 15\n",
      "5 * 5 = 25\n",
      "5 * 7 = 35\n",
      "5 * 9 = 45\n"
     ]
    }
   ],
   "source": [
    "tablenum=int(input ('ENTER TABLE NUMBER'))\n",
    "for num in range(1,10):\n",
    "    if num % 2 == 0:\n",
    "        continue\n",
    "        \n",
    "    else:\n",
    "        print(f'{tablenum} * {num} = {tablenum * num}')\n",
    "    "
   ]
  },
  {
   "cell_type": "code",
   "execution_count": 36,
   "metadata": {},
   "outputs": [
    {
     "name": "stdout",
     "output_type": "stream",
     "text": [
      "ENTER TABLE NUMBER5\n",
      "5 * 1 = 5\n"
     ]
    }
   ],
   "source": [
    "tablenum=int(input ('ENTER TABLE NUMBER'))\n",
    "for num in range(1,10):\n",
    "    if num % 2 == 0:\n",
    "        break\n",
    "        \n",
    "    else:\n",
    "        print(f'{tablenum} * {num} = {tablenum * num}')\n",
    "    "
   ]
  },
  {
   "cell_type": "markdown",
   "metadata": {},
   "source": []
  },
  {
   "cell_type": "code",
   "execution_count": 43,
   "metadata": {},
   "outputs": [
    {
     "name": "stdout",
     "output_type": "stream",
     "text": [
      "Enter friends nameAhmed\n",
      "Enter friends nameMamoon \n",
      "Enter friends nameniaz \n",
      "Enter friends nameKhalil\n",
      "Best friend [] \n",
      "Best friend ['Ahmed', 'Mamoon ', 'niaz ', 'Khalil'] \n"
     ]
    }
   ],
   "source": [
    "bestfriend= []\n",
    "friends= []\n",
    "for num in range(1 , 5):\n",
    "    name= input('Enter friends name')\n",
    "    if name.startswith('a'):\n",
    "        bestfriend.append(name)\n",
    "    else:\n",
    "        friends.append(name)\n",
    "        \n",
    "print(f'Best friend {bestfriend} ')\n",
    "print(f' friends {friends} ')\n",
    "  \n",
    "\n",
    "        \n",
    "        "
   ]
  },
  {
   "cell_type": "code",
   "execution_count": 41,
   "metadata": {},
   "outputs": [
    {
     "data": {
      "text/plain": [
       "['ahmed', 'ali']"
      ]
     },
     "execution_count": 41,
     "metadata": {},
     "output_type": "execute_result"
    }
   ],
   "source": []
  },
  {
   "cell_type": "code",
   "execution_count": 49,
   "metadata": {},
   "outputs": [
    {
     "name": "stdout",
     "output_type": "stream",
     "text": [
      "1 N\n",
      "1 i\n",
      "1 a\n",
      "1 z\n",
      "2 N\n",
      "2 i\n",
      "2 a\n",
      "2 z\n",
      "3 N\n",
      "3 i\n",
      "3 a\n",
      "3 z\n"
     ]
    }
   ],
   "source": [
    "for a in [1,2,3] :\n",
    "    for b in 'Niaz':\n",
    "        print(a , b )\n",
    "        \n",
    "            "
   ]
  },
  {
   "cell_type": "code",
   "execution_count": 66,
   "metadata": {},
   "outputs": [
    {
     "name": "stdout",
     "output_type": "stream",
     "text": [
      "ENTER TABLE starts from NUMBER4\n",
      "ENTER TABLE end NUMBER8\n",
      " table of 4\n",
      "--------------\n",
      "4 * 1 = 4\n",
      "4 * 2 = 8\n",
      "4 * 3 = 12\n",
      "4 * 4 = 16\n",
      "4 * 5 = 20\n",
      "4 * 6 = 24\n",
      "4 * 7 = 28\n",
      "4 * 8 = 32\n",
      "4 * 9 = 36\n",
      "4 * 10 = 40\n",
      "--------------\n",
      "\n",
      "\n",
      " table of 5\n",
      "--------------\n",
      "5 * 1 = 5\n",
      "5 * 2 = 10\n",
      "5 * 3 = 15\n",
      "5 * 4 = 20\n",
      "5 * 5 = 25\n",
      "5 * 6 = 30\n",
      "5 * 7 = 35\n",
      "5 * 8 = 40\n",
      "5 * 9 = 45\n",
      "5 * 10 = 50\n",
      "--------------\n",
      "\n",
      "\n",
      " table of 6\n",
      "--------------\n",
      "6 * 1 = 6\n",
      "6 * 2 = 12\n",
      "6 * 3 = 18\n",
      "6 * 4 = 24\n",
      "6 * 5 = 30\n",
      "6 * 6 = 36\n",
      "6 * 7 = 42\n",
      "6 * 8 = 48\n",
      "6 * 9 = 54\n",
      "6 * 10 = 60\n",
      "--------------\n",
      "\n",
      "\n",
      " table of 7\n",
      "--------------\n",
      "7 * 1 = 7\n",
      "7 * 2 = 14\n",
      "7 * 3 = 21\n",
      "7 * 4 = 28\n",
      "7 * 5 = 35\n",
      "7 * 6 = 42\n",
      "7 * 7 = 49\n",
      "7 * 8 = 56\n",
      "7 * 9 = 63\n",
      "7 * 10 = 70\n",
      "--------------\n",
      "\n",
      "\n"
     ]
    }
   ],
   "source": [
    "a=int(input ('ENTER TABLE starts from NUMBER'))\n",
    "b=int(input ('ENTER TABLE end NUMBER'))\n",
    "for tablenum in range(a,b):\n",
    "    print(f' Table of {tablenum}')\n",
    "    print('--------------')\n",
    "    for num in range(1,11):\n",
    "        print(f'{tablenum} * {num}s = {tablenum * num}')\n",
    "    print('--------------')\n",
    "    \n",
    "    print(\"\\n\")\n",
    "        \n",
    "        \n",
    "        \n",
    "    \n",
    "    "
   ]
  },
  {
   "cell_type": "markdown",
   "metadata": {},
   "source": [
    "# List Comprehension\n"
   ]
  },
  {
   "cell_type": "code",
   "execution_count": 68,
   "metadata": {},
   "outputs": [
    {
     "data": {
      "text/plain": [
       "[1, 4, 9, 16, 25, 36, 49, 64, 81]"
      ]
     },
     "execution_count": 68,
     "metadata": {},
     "output_type": "execute_result"
    }
   ],
   "source": [
    "a=[1,2,3,4,5,6,7,8,9]\n",
    "squares=[]\n",
    "for num in a:\n",
    "    squares.append(num**2)\n",
    "    \n",
    "squares"
   ]
  },
  {
   "cell_type": "code",
   "execution_count": 69,
   "metadata": {},
   "outputs": [
    {
     "data": {
      "text/plain": [
       "[1, 4, 9, 16, 25, 36, 49, 64, 81]"
      ]
     },
     "execution_count": 69,
     "metadata": {},
     "output_type": "execute_result"
    }
   ],
   "source": [
    "[ num**2 for num in range(1,10)]"
   ]
  },
  {
   "cell_type": "code",
   "execution_count": 71,
   "metadata": {},
   "outputs": [
    {
     "data": {
      "text/plain": [
       "[25, 36, 49, 64, 81, 100]"
      ]
     },
     "execution_count": 71,
     "metadata": {},
     "output_type": "execute_result"
    }
   ],
   "source": [
    "[ num**2 for num in range(1,11) if num>4]"
   ]
  },
  {
   "cell_type": "code",
   "execution_count": null,
   "metadata": {},
   "outputs": [],
   "source": []
  }
 ],
 "metadata": {
  "kernelspec": {
   "display_name": "Python 3",
   "language": "python",
   "name": "python3"
  },
  "language_info": {
   "codemirror_mode": {
    "name": "ipython",
    "version": 3
   },
   "file_extension": ".py",
   "mimetype": "text/x-python",
   "name": "python",
   "nbconvert_exporter": "python",
   "pygments_lexer": "ipython3",
   "version": "3.7.3"
  }
 },
 "nbformat": 4,
 "nbformat_minor": 2
}
